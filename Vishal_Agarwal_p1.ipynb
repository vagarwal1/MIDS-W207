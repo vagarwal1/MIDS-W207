{
 "cells": [
  {
   "cell_type": "markdown",
   "metadata": {},
   "source": [
    "# Project 1: Digit Classification with KNN and Naive Bayes"
   ]
  },
  {
   "cell_type": "markdown",
   "metadata": {},
   "source": [
    "In this project, you'll implement your own image recognition system for classifying digits. Read through the code and the instructions carefully and add your own code where indicated. Each problem can be addressed succinctly with the included packages -- please don't add any more. Grading will be based on writing clean, commented code, along with a few short answers.\n",
    "\n",
    "As always, you're welcome to work on the project in groups and discuss ideas on the course wall, but <b> please prepare your own write-up (with your own code). </b>\n",
    "\n",
    "If you're interested, check out these links related to digit recognition:\n",
    "\n",
    "Yann Lecun's MNIST benchmarks: http://yann.lecun.com/exdb/mnist/\n",
    "\n",
    "Stanford Streetview research and data: http://ufldl.stanford.edu/housenumbers/"
   ]
  },
  {
   "cell_type": "code",
   "execution_count": 698,
   "metadata": {
    "collapsed": true
   },
   "outputs": [],
   "source": [
    "# Load the data. Notice that we are splitting the data into training, development, and test. We also have a small subset of the training data called mini_train_data and mini_train_labels that you should use in all the experiments below, unless otherwise noted."
   ]
  },
  {
   "cell_type": "code",
   "execution_count": 699,
   "metadata": {
    "collapsed": true
   },
   "outputs": [],
   "source": [
    "# This tells matplotlib not to try opening a new window for each plot.\n",
    "%matplotlib inline\n",
    "\n",
    "# Import a bunch of libraries.\n",
    "import time\n",
    "import numpy as np\n",
    "import matplotlib.pyplot as plt\n",
    "from matplotlib.ticker import MultipleLocator\n",
    "from sklearn.pipeline import Pipeline\n",
    "from sklearn.datasets import fetch_mldata\n",
    "from sklearn.neighbors import KNeighborsClassifier\n",
    "from sklearn.metrics import confusion_matrix\n",
    "from sklearn.linear_model import LinearRegression\n",
    "from sklearn.naive_bayes import BernoulliNB\n",
    "from sklearn.naive_bayes import MultinomialNB\n",
    "from sklearn.naive_bayes import GaussianNB\n",
    "from sklearn.grid_search import GridSearchCV\n",
    "from sklearn.metrics import classification_report\n",
    "\n",
    "# Set the randomizer seed so results are the same each time.\n",
    "np.random.seed(0)"
   ]
  },
  {
   "cell_type": "code",
   "execution_count": 700,
   "metadata": {},
   "outputs": [
    {
     "name": "stdout",
     "output_type": "stream",
     "text": [
      "data shape:  (70000, 784)\n",
      "label shape: (70000,)\n"
     ]
    }
   ],
   "source": [
    "# Load the digit data either from mldata.org, or once downloaded to data_home, from disk. The data is about 53MB so this cell\n",
    "# should take a while the first time your run it.\n",
    "mnist = fetch_mldata('MNIST original', data_home='~/data/mnist')\n",
    "X, Y = mnist.data, mnist.target\n",
    "\n",
    "# Rescale grayscale values to [0,1].\n",
    "X = X / 255.0\n",
    "\n",
    "# Shuffle the input: create a random permutation of the integers between 0 and the number of data points and apply this\n",
    "# permutation to X and Y.\n",
    "# NOTE: Each time you run this cell, you'll re-shuffle the data, resulting in a different ordering.\n",
    "shuffle = np.random.permutation(np.arange(X.shape[0]))\n",
    "X, Y = X[shuffle], Y[shuffle]\n",
    "\n",
    "print('data shape: ', X.shape)\n",
    "print('label shape:', Y.shape)\n",
    "\n",
    "# Set some variables to hold test, dev, and training data.\n",
    "test_data, test_labels = X[61000:], Y[61000:]\n",
    "dev_data, dev_labels = X[60000:61000], Y[60000:61000]\n",
    "train_data, train_labels = X[:60000], Y[:60000]\n",
    "mini_train_data, mini_train_labels = X[:1000], Y[:1000]"
   ]
  },
  {
   "cell_type": "markdown",
   "metadata": {},
   "source": [
    "(1) Create a 10x10 grid to visualize 10 examples of each digit. Python hints:\n",
    "\n",
    "- plt.rc() for setting the colormap, for example to black and white\n",
    "- plt.subplot() for creating subplots\n",
    "- plt.imshow() for rendering a matrix\n",
    "- np.array.reshape() for reshaping a 1D feature vector into a 2D matrix (for rendering)"
   ]
  },
  {
   "cell_type": "code",
   "execution_count": 701,
   "metadata": {},
   "outputs": [
    {
     "data": {
      "image/png": "[encoded data removed]",
      "text/plain": [
       "<matplotlib.figure.Figure at 0x1a272bde80>"
      ]
     },
     "metadata": {},
     "output_type": "display_data"
    }
   ],
   "source": [
    "#def P1(num_examples=10):\n",
    "\n",
    "### STUDENT START ###\n",
    "def P1(num_examples=10):\n",
    "    \n",
    "    #Defining a variable to hold the place of the plot on the subplot\n",
    "    place = 1\n",
    "    for row in range(1,10):\n",
    "        #Detrmine the digit we want to show\n",
    "        YDigit = (Y==row).nonzero()[0]\n",
    "\n",
    "        for col in range(1,num_examples+1):\n",
    "            #Randomly select one of the rows of this digit to display\n",
    "            index = YDigit[np.random.randint(0,100)]\n",
    "\n",
    "            #Store the row to be plotted and reshape it for display\n",
    "            rowToPlot = (X[index]*255).reshape((28,28))\n",
    "\n",
    "            #Add and show the plot\n",
    "            fig = plt.subplot(10,num_examples, place)\n",
    "            place = place + 1\n",
    "            fig.axis('off')\n",
    "            plt.imshow(rowToPlot, cmap='Greys')\n",
    "\n",
    "#Call the main method        \n",
    "P1(10)\n",
    "### STUDENT END ###\n",
    "\n",
    "#P1(10)"
   ]
  },
  {
   "cell_type": "markdown",
   "metadata": {},
   "source": [
    "(2) Evaluate a K-Nearest-Neighbors model with k = [1,3,5,7,9] using the mini training set. Report accuracy on the dev set. For k=1, show precision, recall, and F1 for each label. Which is the most difficult digit?\n",
    "\n",
    "- KNeighborsClassifier() for fitting and predicting\n",
    "- classification_report() for producing precision, recall, F1 results"
   ]
  },
  {
   "cell_type": "code",
   "execution_count": 702,
   "metadata": {},
   "outputs": [
    {
     "name": "stdout",
     "output_type": "stream",
     "text": [
      "The value of K: 1\n",
      "             precision    recall  f1-score   support\n",
      "\n",
      "        0.0       0.91      0.98      0.94        99\n",
      "        1.0       0.89      1.00      0.94       105\n",
      "        2.0       0.99      0.79      0.88       102\n",
      "        3.0       0.77      0.87      0.82        86\n",
      "        4.0       0.89      0.82      0.85       104\n",
      "        5.0       0.93      0.84      0.88        91\n",
      "        6.0       0.94      0.96      0.95        98\n",
      "        7.0       0.89      0.92      0.90       113\n",
      "        8.0       0.94      0.88      0.91        96\n",
      "        9.0       0.78      0.82      0.80       106\n",
      "\n",
      "avg / total       0.89      0.89      0.89      1000\n",
      "\n",
      "The value of K: 3\n",
      "             precision    recall  f1-score   support\n",
      "\n",
      "        0.0       0.90      1.00      0.95        99\n",
      "        1.0       0.81      1.00      0.89       105\n",
      "        2.0       0.95      0.81      0.88       102\n",
      "        3.0       0.69      0.84      0.75        86\n",
      "        4.0       0.88      0.85      0.86       104\n",
      "        5.0       0.94      0.79      0.86        91\n",
      "        6.0       0.97      0.96      0.96        98\n",
      "        7.0       0.92      0.88      0.90       113\n",
      "        8.0       0.96      0.79      0.87        96\n",
      "        9.0       0.84      0.85      0.85       106\n",
      "\n",
      "avg / total       0.89      0.88      0.88      1000\n",
      "\n",
      "The value of K: 5\n",
      "             precision    recall  f1-score   support\n",
      "\n",
      "        0.0       0.92      0.98      0.95        99\n",
      "        1.0       0.78      1.00      0.88       105\n",
      "        2.0       0.98      0.80      0.88       102\n",
      "        3.0       0.76      0.84      0.80        86\n",
      "        4.0       0.87      0.83      0.85       104\n",
      "        5.0       0.93      0.82      0.87        91\n",
      "        6.0       0.94      0.95      0.94        98\n",
      "        7.0       0.87      0.87      0.87       113\n",
      "        8.0       0.96      0.77      0.86        96\n",
      "        9.0       0.77      0.82      0.79       106\n",
      "\n",
      "avg / total       0.88      0.87      0.87      1000\n",
      "\n",
      "The value of K: 7\n",
      "             precision    recall  f1-score   support\n",
      "\n",
      "        0.0       0.91      0.98      0.94        99\n",
      "        1.0       0.77      1.00      0.87       105\n",
      "        2.0       0.99      0.76      0.86       102\n",
      "        3.0       0.79      0.87      0.83        86\n",
      "        4.0       0.90      0.81      0.85       104\n",
      "        5.0       0.95      0.81      0.88        91\n",
      "        6.0       0.91      0.93      0.92        98\n",
      "        7.0       0.83      0.88      0.85       113\n",
      "        8.0       0.95      0.78      0.86        96\n",
      "        9.0       0.77      0.81      0.79       106\n",
      "\n",
      "avg / total       0.87      0.86      0.86      1000\n",
      "\n",
      "The value of K: 9\n",
      "             precision    recall  f1-score   support\n",
      "\n",
      "        0.0       0.91      0.98      0.94        99\n",
      "        1.0       0.73      1.00      0.84       105\n",
      "        2.0       0.97      0.75      0.85       102\n",
      "        3.0       0.80      0.85      0.82        86\n",
      "        4.0       0.91      0.81      0.86       104\n",
      "        5.0       0.97      0.79      0.87        91\n",
      "        6.0       0.92      0.93      0.92        98\n",
      "        7.0       0.83      0.88      0.85       113\n",
      "        8.0       0.94      0.79      0.86        96\n",
      "        9.0       0.78      0.84      0.81       106\n",
      "\n",
      "avg / total       0.88      0.86      0.86      1000\n",
      "\n"
     ]
    }
   ],
   "source": [
    "#def P2(k_values):\n",
    "\n",
    "### STUDENT START ###\n",
    "def P2(K_values):\n",
    "    #For each value of K, iterate to generate the model and print the classification report\n",
    "    for knn in K_values:\n",
    "        model = KNeighborsClassifier(n_neighbors=knn)\n",
    "        model.fit(mini_train_data, mini_train_labels)\n",
    "        print(\"The value of K: \"+ str(knn))\n",
    "        print(classification_report(dev_labels, model.predict(dev_data)))    \n",
    "\n",
    "#Call the main mehtod\n",
    "P2(range(1,10,2))\n",
    "\n",
    "### STUDENT END ###\n",
    "\n",
    "#k_values = [1, 3, 5, 7, 9]\n",
    "#P2(k_values)"
   ]
  },
  {
   "cell_type": "markdown",
   "metadata": {},
   "source": [
    "ANSWER: The digit 9 seems to be the hardest as the f1-score seems to be worst in most cases. The next digit that seems to be difficult is 3."
   ]
  },
  {
   "cell_type": "markdown",
   "metadata": {},
   "source": [
    "(3) Using k=1, report dev set accuracy for the training set sizes below. Also, measure the amount of time needed for prediction with each training size.\n",
    "\n",
    "- time.time() gives a wall clock value you can use for timing operations"
   ]
  },
  {
   "cell_type": "code",
   "execution_count": 703,
   "metadata": {},
   "outputs": [
    {
     "name": "stdout",
     "output_type": "stream",
     "text": [
      "CPU times: user 131 ms, sys: 2.63 ms, total: 134 ms\n",
      "Wall time: 134 ms\n",
      "Accuracy when the size is: 100 is 0.72\n",
      "CPU times: user 261 ms, sys: 4.53 ms, total: 266 ms\n",
      "Wall time: 264 ms\n",
      "Accuracy when the size is: 200 is 0.786\n",
      "CPU times: user 533 ms, sys: 5.91 ms, total: 539 ms\n",
      "Wall time: 543 ms\n",
      "Accuracy when the size is: 400 is 0.841\n",
      "CPU times: user 1.1 s, sys: 8.96 ms, total: 1.11 s\n",
      "Wall time: 1.13 s\n",
      "Accuracy when the size is: 800 is 0.884\n",
      "CPU times: user 2.11 s, sys: 14.5 ms, total: 2.12 s\n",
      "Wall time: 2.13 s\n",
      "Accuracy when the size is: 1600 is 0.902\n",
      "CPU times: user 4.36 s, sys: 39.5 ms, total: 4.4 s\n",
      "Wall time: 4.48 s\n",
      "Accuracy when the size is: 3200 is 0.926\n",
      "CPU times: user 8.67 s, sys: 70.9 ms, total: 8.74 s\n",
      "Wall time: 8.89 s\n",
      "Accuracy when the size is: 6400 is 0.937\n",
      "CPU times: user 18.5 s, sys: 160 ms, total: 18.7 s\n",
      "Wall time: 19 s\n",
      "Accuracy when the size is: 12800 is 0.959\n",
      "CPU times: user 37 s, sys: 359 ms, total: 37.4 s\n",
      "Wall time: 38.4 s\n",
      "Accuracy when the size is: 25000 is 0.97\n",
      "[0.71999999999999997, 0.78600000000000003, 0.84099999999999997, 0.88400000000000001, 0.90200000000000002, 0.92600000000000005, 0.93700000000000006, 0.95899999999999996, 0.96999999999999997]\n"
     ]
    }
   ],
   "source": [
    "#def P3(train_sizes, accuracies):\n",
    "\n",
    "### STUDENT START ###\n",
    "def P3(train_sizes, accuracies):\n",
    "    from sklearn.metrics import accuracy_score\n",
    "\n",
    "    #Iterate for each of the training sizes passed into the function\n",
    "    for size in train_sizes:\n",
    "        #Create a subset based on the size\n",
    "        subset_train_data, subset_train_label = train_data[0:size], train_labels[0:size]\n",
    "        \n",
    "        #Generate and fit the model\n",
    "        model = KNeighborsClassifier(n_neighbors=1)\n",
    "        model.fit(subset_train_data, subset_train_label)\n",
    "\n",
    "        #Run the prediction and use the in-built time function to calculate the execution time\n",
    "        dev_predicted = %time model.predict(dev_data)\n",
    "\n",
    "        #Calculate and print the accuracy\n",
    "        acc = accuracy_score(dev_labels, dev_predicted)\n",
    "        print (\"Accuracy when the size is: \"+str(size)+\" is \"+str(acc))\n",
    "        accuracies.append(acc)\n",
    "\n",
    "#Call the main function after setting the correct inputs        \n",
    "train_sizes = [100, 200, 400, 800, 1600, 3200, 6400, 12800, 25000]\n",
    "accuracies = []\n",
    "P3(train_sizes, accuracies)\n",
    "\n",
    "print(accuracies)\n",
    "\n",
    "### STUDENT END ###\n",
    "\n",
    "#train_sizes = [100, 200, 400, 800, 1600, 3200, 6400, 12800, 25000]\n",
    "#accuracies = []\n",
    "#P3(train_sizes, accuracies)"
   ]
  },
  {
   "cell_type": "markdown",
   "metadata": {},
   "source": [
    "(4) Fit a regression model that predicts accuracy from training size. What does it predict for n=60000? What's wrong with using regression here? Can you apply a transformation that makes the predictions more reasonable?\n",
    "\n",
    "- Remember that the sklearn fit() functions take an input matrix X and output vector Y. So each input example in X is a vector, even if it contains only a single value."
   ]
  },
  {
   "cell_type": "code",
   "execution_count": 714,
   "metadata": {},
   "outputs": [
    {
     "name": "stdout",
     "output_type": "stream",
     "text": [
      "Prediction accuracy for size 60000 is 1.2\n",
      "Prediction accuracy for size 60000 with log transformation is 1.0\n"
     ]
    }
   ],
   "source": [
    "#def P4():\n",
    "\n",
    "### STUDENT START ###\n",
    "def P4():\n",
    "    #We will use the accuracies and train from P3\n",
    "    lm = LinearRegression()\n",
    "    lm.fit(np.array(train_sizes).reshape(-1, 1), accuracies)\n",
    "    prediction_accuracy = lm.predict(np.array([60000]).reshape(1,-1))\n",
    "    print(\"Prediction accuracy for size 60000 is %1.1f\" %prediction_accuracy)    \n",
    "    \n",
    "    #Let's apply a log transformation to the train_sizes so that the increases \n",
    "    #in the training sizes have more of an exponential effect on the accuracy and not a linear effect\n",
    "    lm.fit(np.array(np.log(train_sizes)).reshape(-1, 1), accuracies)\n",
    "    prediction_accuracy = lm.predict(np.array([np.log(60000)]).reshape(1,-1))\n",
    "    print(\"Prediction accuracy for size 60000 with log transformation is %1.1f\" %prediction_accuracy)    \n",
    "\n",
    "    \n",
    "P4()\n",
    "\n",
    "### STUDENT END ###\n",
    "\n",
    "#P4()"
   ]
  },
  {
   "cell_type": "markdown",
   "metadata": {},
   "source": [
    "ANSWER: The prediction accuracy is 1.2. Which is is incorrect, since it cannot be more than 1.0. This is happening because the regression is assuming a linear relationship between the training size and accuracy. There is a sort of  exponential relationship instead. Applying a log(train_size) will create that desired effect."
   ]
  },
  {
   "cell_type": "markdown",
   "metadata": {},
   "source": [
    "Fit a 1-NN and output a confusion matrix for the dev data. Use the confusion matrix to identify the most confused pair of digits, and display a few example mistakes.\n",
    "\n",
    "- confusion_matrix() produces a confusion matrix"
   ]
  },
  {
   "cell_type": "code",
   "execution_count": 705,
   "metadata": {},
   "outputs": [
    {
     "name": "stdout",
     "output_type": "stream",
     "text": [
      "Confusion Matrix: \n",
      "[[105   0   0   0   0   0   0   0   0]\n",
      " [  4  81   4   0   0   0   4   3   2]\n",
      " [  0   0  75   0   3   0   3   1   3]\n",
      " [  2   0   0  85   0   3   0   0  14]\n",
      " [  0   0   9   0  76   0   1   1   2]\n",
      " [  1   1   0   1   0  94   0   0   0]\n",
      " [  4   0   1   1   0   0 104   0   2]\n",
      " [  2   0   5   0   2   1   0  84   2]\n",
      " [  0   0   3   9   1   0   5   0  87]]\n",
      "Most confused digit is 9\n"
     ]
    },
    {
     "data": {
      "image/png": "[encoded data removed]",
      "text/plain": [
       "<matplotlib.figure.Figure at 0x1a25d84128>"
      ]
     },
     "metadata": {},
     "output_type": "display_data"
    }
   ],
   "source": [
    "#def P5():\n",
    "\n",
    "### STUDENT START ###\n",
    "def P5():\n",
    "    #Let's create a KNN model\n",
    "    model = KNeighborsClassifier(n_neighbors=1)\n",
    "    model.fit(mini_train_data, mini_train_labels)\n",
    "    \n",
    "    #Running our prediction on dev_data as asked\n",
    "    predicted_labels = model.predict(dev_data)\n",
    "\n",
    "    #Let's output the confusion matrix\n",
    "    from sklearn.metrics import confusion_matrix\n",
    "    matrix = confusion_matrix(dev_labels, predicted_labels, labels = range(1,10))\n",
    "    print (\"Confusion Matrix: \\n\"+str(matrix))\n",
    "    \n",
    "    #Analysis of the confusion yields that the most confused digit is 9, \n",
    "    #and that it is most confused with digit 4 (14 times it got confused)\n",
    "    error_count = matrix.sum(axis=0) - matrix.max(axis=0)\n",
    "    mostConfusedDigit = error_count.argmax()+1\n",
    "    print(\"Most confused digit is %i\" %mostConfusedDigit)\n",
    "    \n",
    "    #Let's print some examples of the most confused digit when it got the prediction wrong\n",
    "    error_list = ((predicted_labels == mostConfusedDigit) & (predicted_labels != dev_labels)).nonzero()[0]\n",
    "    for i in range(1,11):\n",
    "        index = error_list[i]\n",
    "        rowToPlot = (dev_data[index]*255).reshape((28,28))\n",
    "        fig = plt.subplot(2,5, i)\n",
    "        fig.axis('off')\n",
    "        plt.imshow(rowToPlot, cmap='Greys')\n",
    "\n",
    "#Call the main function        \n",
    "P5()\n",
    "\n",
    "\n",
    "### STUDENT END ###\n",
    "\n",
    "#P5()"
   ]
  },
  {
   "cell_type": "markdown",
   "metadata": {},
   "source": [
    "(6) A common image processing technique is to smooth an image by blurring. The idea is that the value of a particular pixel is estimated as the weighted combination of the original value and the values around it. Typically, the blurring is Gaussian -- that is, the weight of a pixel's influence is determined by a Gaussian function over the distance to the relevant pixel.\n",
    "\n",
    "Implement a simplified Gaussian blur by just using the 8 neighboring pixels: the smoothed value of a pixel is a weighted combination of the original value and the 8 neighboring values. Try applying your blur filter in 3 ways:\n",
    "- preprocess the training data but not the dev data\n",
    "- preprocess the dev data but not the training data\n",
    "- preprocess both training and dev data\n",
    "\n",
    "Note that there are Guassian blur filters available, for example in scipy.ndimage.filters. You're welcome to experiment with those, but you are likely to get the best results with the simplified version I described above."
   ]
  },
  {
   "cell_type": "code",
   "execution_count": 706,
   "metadata": {},
   "outputs": [
    {
     "name": "stdout",
     "output_type": "stream",
     "text": [
      "Scenario 1: preprocess the training data but not the dev data\n",
      "             precision    recall  f1-score   support\n",
      "\n",
      "        0.0       0.92      0.98      0.95        99\n",
      "        1.0       0.95      0.99      0.97       105\n",
      "        2.0       0.97      0.84      0.90       102\n",
      "        3.0       0.80      0.87      0.83        86\n",
      "        4.0       0.92      0.82      0.87       104\n",
      "        5.0       0.93      0.89      0.91        91\n",
      "        6.0       0.96      0.96      0.96        98\n",
      "        7.0       0.91      0.93      0.92       113\n",
      "        8.0       0.93      0.93      0.93        96\n",
      "        9.0       0.82      0.88      0.85       106\n",
      "\n",
      "avg / total       0.91      0.91      0.91      1000\n",
      "\n",
      "Scenario 2: preprocess the dev data but not the training data\n",
      "             precision    recall  f1-score   support\n",
      "\n",
      "        0.0       0.92      0.98      0.95        99\n",
      "        1.0       0.75      0.99      0.86       105\n",
      "        2.0       0.99      0.81      0.89       102\n",
      "        3.0       0.77      0.86      0.81        86\n",
      "        4.0       0.89      0.87      0.88       104\n",
      "        5.0       0.92      0.84      0.87        91\n",
      "        6.0       0.94      0.95      0.94        98\n",
      "        7.0       0.87      0.86      0.86       113\n",
      "        8.0       0.95      0.73      0.82        96\n",
      "        9.0       0.81      0.82      0.81       106\n",
      "\n",
      "avg / total       0.88      0.87      0.87      1000\n",
      "\n",
      "Scenario 3: preprocess both training and dev data\n",
      "             precision    recall  f1-score   support\n",
      "\n",
      "        0.0       0.93      0.98      0.96        99\n",
      "        1.0       0.94      0.99      0.96       105\n",
      "        2.0       0.97      0.85      0.91       102\n",
      "        3.0       0.78      0.83      0.80        86\n",
      "        4.0       0.93      0.82      0.87       104\n",
      "        5.0       0.93      0.87      0.90        91\n",
      "        6.0       0.96      0.96      0.96        98\n",
      "        7.0       0.92      0.91      0.92       113\n",
      "        8.0       0.93      0.93      0.93        96\n",
      "        9.0       0.77      0.89      0.82       106\n",
      "\n",
      "avg / total       0.91      0.90      0.90      1000\n",
      "\n"
     ]
    },
    {
     "data": {
      "image/png": "[encoded data removed]",
      "text/plain": [
       "<matplotlib.figure.Figure at 0x1a1c994320>"
      ]
     },
     "metadata": {},
     "output_type": "display_data"
    }
   ],
   "source": [
    "#def P6():\n",
    "    \n",
    "### STUDENT START ###\n",
    "def blurr_image(orig_img):\n",
    "    #This function actually blurrs the image and gets the original image as an input\n",
    "    #Let's start by creating an empty array\n",
    "    blurr_image = np.empty((28,28))\n",
    "    blurr_image.fill(1)\n",
    "\n",
    "    #We will use a technique a[0:3, 0:3] for example to create a 3X3 grid and call a sum on\n",
    "    #the entire matrix and then divide by 9. We will have to take care of the edge cases so\n",
    "    #we will modify start_row/end_row and start_col/end_col to account for that. Let's begin!\n",
    "\n",
    "    i, j = orig_img.shape\n",
    "    start_row=None\n",
    "    for row in range(0,i):\n",
    "        #Logic to adjust the row for the edge cases\n",
    "        if row != 0:\n",
    "            start_row = row - 1\n",
    "        if row < i-2:\n",
    "            end_row = row+2 \n",
    "        else:\n",
    "            end_row=None\n",
    "\n",
    "        start_col=None\n",
    "        for col in range (0,j):\n",
    "            #Logic to adjust the col for the edge cases\n",
    "            if col != 0:\n",
    "                start_col = col -1 \n",
    "\n",
    "            if col < j-2:\n",
    "                end_col = col+2\n",
    "            else:\n",
    "                end_col=None\n",
    "            end_col\n",
    "            \n",
    "            #We are ready to recalculate the new value of the pixel\n",
    "            blurr_image[row,col] = orig_img[start_row:end_row,start_col:end_col].sum()/9\n",
    "    \n",
    "    return blurr_image\n",
    "\n",
    "def transform_data(orig_data):\n",
    "    #A new method that gets a full data for which each row has to be transformed by the blurr image method\n",
    "    #Let's start by creating an empty array\n",
    "    new_data = np.empty((len(orig_data),784))\n",
    "\n",
    "    #For each row we will call blurr_image function\n",
    "    for index in range(0, len(orig_data)):\n",
    "        new_image = blurr_image(orig_data[index].reshape(28,28))\n",
    "        new_data[index] = new_image.reshape(1,784)\n",
    "    \n",
    "    #We are ready to return the transformed data set\n",
    "    return new_data\n",
    "    \n",
    "def P6():\n",
    "    #Scenario 1: preprocess the training data but not the dev data\n",
    "    new_mini_train_data = transform_data(mini_train_data)\n",
    "\n",
    "    model = KNeighborsClassifier(n_neighbors=1)\n",
    "    model.fit(new_mini_train_data, mini_train_labels)\n",
    "    predicted_labels = model.predict(dev_data)\n",
    "    print(\"Scenario 1: preprocess the training data but not the dev data\\n\"+\n",
    "          classification_report(dev_labels, predicted_labels))   \n",
    "    \n",
    "    #Scenario 2: preprocess the dev data but not the training data\n",
    "    new_dev_data = transform_data(dev_data)\n",
    "\n",
    "    model = KNeighborsClassifier(n_neighbors=1)\n",
    "    model.fit(mini_train_data, mini_train_labels)\n",
    "    predicted_labels = model.predict(new_dev_data)\n",
    "    print(\"Scenario 2: preprocess the dev data but not the training data\\n\"+\n",
    "          classification_report(dev_labels, predicted_labels))   \n",
    "    \n",
    "    #Scenario 3: preprocess both training and dev data\n",
    "    model = KNeighborsClassifier(n_neighbors=1)\n",
    "    model.fit(new_mini_train_data, mini_train_labels)\n",
    "    predicted_labels = model.predict(new_dev_data)\n",
    "    print(\"Scenario 3: preprocess both training and dev data\\n\"+\n",
    "          classification_report(dev_labels, predicted_labels))   \n",
    "    \n",
    "    #Printing samples to see the blurr effect\n",
    "    for i in range(1,20,2):\n",
    "        fig = plt.subplot(10,2,i)\n",
    "        fig.axis('off')\n",
    "        plt.imshow(mini_train_data[i].reshape(28,28), cmap='Greys')\n",
    "\n",
    "        fig = plt.subplot(10,2,i+1)\n",
    "        fig.axis('off')\n",
    "        plt.imshow(new_mini_train_data[i].reshape(28,28), cmap='Greys')\n",
    "\n",
    "P6()\n",
    "\n",
    "### STUDENT END ###\n",
    "\n",
    "#P6()"
   ]
  },
  {
   "cell_type": "markdown",
   "metadata": {},
   "source": [
    "ANSWER: The blurr effect increased the accuracy of the results. Further pre processing the training data seemed to do the trick not neededing the dev data to be transformed (atleast in these runs)."
   ]
  },
  {
   "cell_type": "markdown",
   "metadata": {},
   "source": [
    "(7) Fit a Naive Bayes classifier and report accuracy on the dev data. Remember that Naive Bayes estimates P(feature|label). While sklearn can handle real-valued features, let's start by mapping the pixel values to either 0 or 1. You can do this as a preprocessing step, or with the binarize argument. With binary-valued features, you can use BernoulliNB. Next try mapping the pixel values to 0, 1, or 2, representing white, grey, or black. This mapping requires MultinomialNB. Does the multi-class version improve the results? Why or why not?"
   ]
  },
  {
   "cell_type": "code",
   "execution_count": 707,
   "metadata": {},
   "outputs": [
    {
     "name": "stdout",
     "output_type": "stream",
     "text": [
      "Accuracy for BernoulliNB with 1/0 value is: 0.815\n",
      "Accuracy for MultinomialNB when we categorize in 0,1 and 2 is: 0.791\n"
     ]
    }
   ],
   "source": [
    "#def P7():\n",
    "\n",
    "### STUDENT START ###\n",
    "def P7():\n",
    "    #Creating a BernoulliNB model using the bianrize argument\n",
    "    from sklearn.naive_bayes import BernoulliNB\n",
    "    model = BernoulliNB(binarize=0.5)\n",
    "    model.fit(mini_train_data, mini_train_labels)\n",
    "    predicted_values = model.predict(dev_data)\n",
    "    \n",
    "    #Check accuracy of the prediction\n",
    "    from sklearn.metrics import accuracy_score\n",
    "    acc = accuracy_score(dev_labels, predicted_values)\n",
    "    print (\"Accuracy for BernoulliNB with 1/0 value is: \"+str(acc))   \n",
    "    \n",
    "    #Now mapping the pixel values to 0, 1, or 2, representing white, grey, or black\n",
    "    threshold = 0.75\n",
    "    new2_mini_train_data = mini_train_data.copy()\n",
    "    new2_mini_train_data[new2_mini_train_data >= threshold] = 2\n",
    "    new2_mini_train_data[new2_mini_train_data < threshold] = 1\n",
    "    new2_mini_train_data[new2_mini_train_data <= (1-threshold)] = 0\n",
    "    \n",
    "    new2_dev_data = dev_data.copy()\n",
    "    new2_dev_data[new2_dev_data >= threshold] = 2\n",
    "    new2_dev_data[new2_dev_data < threshold] = 1\n",
    "    new2_dev_data[new2_dev_data <= (1-threshold)] = 0\n",
    "    \n",
    "    #Creating a MultinomialNB model\n",
    "    from sklearn.naive_bayes import MultinomialNB\n",
    "    model = MultinomialNB()\n",
    "    model.fit(new2_mini_train_data, mini_train_labels)\n",
    "    predicted2_values = model.predict(new2_dev_data)\n",
    "    \n",
    "    #Check accuracy of the prediction\n",
    "    from sklearn.metrics import accuracy_score\n",
    "    acc2 = accuracy_score(dev_labels, predicted2_values)\n",
    "    print (\"Accuracy for MultinomialNB when we categorize in 0,1 and 2 is: \"+str(acc2))\n",
    "\n",
    "P7()\n",
    "### STUDENT END ###\n",
    "\n",
    "#P7()"
   ]
  },
  {
   "cell_type": "markdown",
   "metadata": {},
   "source": [
    "ANSWER: The multi-class actually did NOT do better. Possibly because the probabilities got further spread out and started causing accuracy issues."
   ]
  },
  {
   "cell_type": "markdown",
   "metadata": {},
   "source": [
    "(8) Use GridSearchCV to perform a search over values of alpha (the Laplace smoothing parameter) in a Bernoulli NB model. What is the best value for alpha? What is the accuracy when alpha=0? Is this what you'd expect?\n",
    "\n",
    "- Note that GridSearchCV partitions the training data so the results will be a bit different than if you used the dev data for evaluation."
   ]
  },
  {
   "cell_type": "code",
   "execution_count": 708,
   "metadata": {},
   "outputs": [
    {
     "name": "stderr",
     "output_type": "stream",
     "text": [
      "/Users/vishal/anaconda3/lib/python3.6/site-packages/sklearn/naive_bayes.py:472: UserWarning: alpha too small will result in numeric errors, setting alpha = 1.0e-10\n",
      "  'setting alpha = %.1e' % _ALPHA_MIN)\n",
      "/Users/vishal/anaconda3/lib/python3.6/site-packages/sklearn/naive_bayes.py:472: UserWarning: alpha too small will result in numeric errors, setting alpha = 1.0e-10\n",
      "  'setting alpha = %.1e' % _ALPHA_MIN)\n",
      "/Users/vishal/anaconda3/lib/python3.6/site-packages/sklearn/naive_bayes.py:472: UserWarning: alpha too small will result in numeric errors, setting alpha = 1.0e-10\n",
      "  'setting alpha = %.1e' % _ALPHA_MIN)\n"
     ]
    },
    {
     "name": "stdout",
     "output_type": "stream",
     "text": [
      "Best score is 0.8210 \n",
      "Best value for alhpa is BernoulliNB(alpha=0.1, binarize=0.0, class_prior=None, fit_prior=True)\n",
      "Best score with alpha = 0 is 0.8030 \n"
     ]
    },
    {
     "name": "stderr",
     "output_type": "stream",
     "text": [
      "/Users/vishal/anaconda3/lib/python3.6/site-packages/sklearn/naive_bayes.py:472: UserWarning: alpha too small will result in numeric errors, setting alpha = 1.0e-10\n",
      "  'setting alpha = %.1e' % _ALPHA_MIN)\n",
      "/Users/vishal/anaconda3/lib/python3.6/site-packages/sklearn/naive_bayes.py:472: UserWarning: alpha too small will result in numeric errors, setting alpha = 1.0e-10\n",
      "  'setting alpha = %.1e' % _ALPHA_MIN)\n",
      "/Users/vishal/anaconda3/lib/python3.6/site-packages/sklearn/naive_bayes.py:472: UserWarning: alpha too small will result in numeric errors, setting alpha = 1.0e-10\n",
      "  'setting alpha = %.1e' % _ALPHA_MIN)\n",
      "/Users/vishal/anaconda3/lib/python3.6/site-packages/sklearn/naive_bayes.py:472: UserWarning: alpha too small will result in numeric errors, setting alpha = 1.0e-10\n",
      "  'setting alpha = %.1e' % _ALPHA_MIN)\n"
     ]
    }
   ],
   "source": [
    "#def P8(alphas):\n",
    "\n",
    "### STUDENT START ###\n",
    "def P8(alphas):\n",
    "\n",
    "    #Create a BernoulliNB model\n",
    "    from sklearn.naive_bayes import BernoulliNB\n",
    "    model = BernoulliNB()\n",
    "\n",
    "    #Find the optimal alpha value\n",
    "    from sklearn.model_selection import GridSearchCV\n",
    "    grid = GridSearchCV(estimator=model, param_grid=alphas)\n",
    "    grid.fit(mini_train_data, mini_train_labels)\n",
    "\n",
    "    return grid\n",
    "\n",
    "alphas = {'alpha': [0.0, 0.0001, 0.001, 0.01, 0.1, 0.5, 1.0, 2.0, 10.0]}\n",
    "grid = P8(alphas)\n",
    "# summarize the results of the grid search\n",
    "print(\"Best score is %.4f \" %grid.best_score_)\n",
    "print(\"Best value for alhpa is \" + str(grid.best_estimator_))\n",
    "\n",
    "\n",
    "alphas = {'alpha': [0.0]}\n",
    "grid = P8(alphas)\n",
    "print(\"Best score with alpha = 0 is %.4f \" %grid.best_score_)\n",
    "\n",
    "\n",
    "### STUDENT END ###\n",
    "\n",
    "#alphas = {'alpha': [0.0, 0.0001, 0.001, 0.01, 0.1, 0.5, 1.0, 2.0, 10.0]}\n",
    "#nb = P8(alphas)"
   ]
  },
  {
   "cell_type": "code",
   "execution_count": 709,
   "metadata": {
    "collapsed": true
   },
   "outputs": [],
   "source": [
    "#print nb.best_params_"
   ]
  },
  {
   "cell_type": "markdown",
   "metadata": {},
   "source": [
    "ANSWER: The best value for alpha is 0.1\n",
    "The accuracy when alpha is 0 is 0.80 I was expecting a worse value so this is a surprise."
   ]
  },
  {
   "cell_type": "markdown",
   "metadata": {},
   "source": [
    "(9) Try training a model using GuassianNB, which is intended for real-valued features, and evaluate on the dev data. You'll notice that it doesn't work so well. Try to diagnose the problem. You should be able to find a simple fix that returns the accuracy to around the same rate as BernoulliNB. Explain your solution.\n",
    "\n",
    "Hint: examine the parameters estimated by the fit() method, theta\\_ and sigma\\_."
   ]
  },
  {
   "cell_type": "code",
   "execution_count": 710,
   "metadata": {},
   "outputs": [
    {
     "name": "stdout",
     "output_type": "stream",
     "text": [
      "Accuracy of the GuassianNB is 0.571\n",
      "Accuracy of the GuassianNB after log10 normalization is 0.715\n"
     ]
    }
   ],
   "source": [
    "#def P9():\n",
    "\n",
    "### STUDENT END ###\n",
    "def P9():\n",
    "    #Let's create a model and fit to the training data\n",
    "    from sklearn.naive_bayes import GaussianNB\n",
    "    model = GaussianNB()\n",
    "    model.fit(train_data, train_labels)\n",
    "\n",
    "    #Let's run a prediction on dev data\n",
    "    predicted_value = model.predict(dev_data)\n",
    "\n",
    "    #Let's find the accuracy of the prediction\n",
    "    from sklearn.metrics import accuracy_score\n",
    "    acc = accuracy_score(dev_labels, predicted_value)\n",
    "    print(\"Accuracy of the GuassianNB is \"+str(acc))\n",
    "    #print(\"Theta \"+str(model.theta_[model.theta_.nonzero()]))\n",
    "    #print(\"Sigma \"+str(model.sigma_[model.theta_.nonzero()]))    \n",
    "    \n",
    "    #The distribution is highly bi-modal with values concentrated on the two ends of the spectrum\n",
    "    #We need to find a way to normalize the distribution\n",
    "    new_train_data = train_data.copy()\n",
    "    new_dev_data = dev_data.copy()\n",
    "    \n",
    "    nonZeroIndex = new_train_data != 0\n",
    "    new_train_data[nonZeroIndex] = np.log10(new_train_data[nonZeroIndex]*255)    \n",
    "\n",
    "    nonZeroIndex = new_dev_data != 0\n",
    "    new_dev_data[nonZeroIndex] = np.log10(new_dev_data[nonZeroIndex]*255)\n",
    "    \n",
    "    from sklearn.naive_bayes import GaussianNB\n",
    "    model2 = GaussianNB()\n",
    "    model2.fit(new_train_data, train_labels)\n",
    "\n",
    "    #Let's run a prediction on dev data\n",
    "    predicted2_value = model.predict(new_dev_data)\n",
    "\n",
    "    #Let's find the accuracy of the prediction\n",
    "    acc2 = accuracy_score(dev_labels, predicted2_value)\n",
    "    print(\"Accuracy of the GuassianNB after log10 normalization is \"+str(acc2))\n",
    "    \n",
    "P9()\n",
    "\n",
    "### STUDENT END ###\n",
    "\n",
    "#gnb = P9()"
   ]
  },
  {
   "cell_type": "markdown",
   "metadata": {},
   "source": [
    "ANSWER: The distribution is bi-modal with concentration on both the ends of the spectrum. To normalize the distribution we go back to the original values by multiplying by 255 and then taking a log. After some trial and error, seems like log10 provides the best accuracy at 0.715 (from 0.571) on dev data"
   ]
  },
  {
   "cell_type": "markdown",
   "metadata": {},
   "source": [
    "(10) Because Naive Bayes is a generative model, we can use the trained model to generate digits. Train a BernoulliNB model and then generate a 10x20 grid with 20 examples of each digit. Because you're using a Bernoulli model, each pixel output will be either 0 or 1. How do the generated digits compare to the training digits?\n",
    "\n",
    "- You can use np.random.rand() to generate random numbers from a uniform distribution\n",
    "- The estimated probability of each pixel is stored in feature\\_log\\_prob\\_. You'll need to use np.exp() to convert a log probability back to a probability."
   ]
  },
  {
   "cell_type": "code",
   "execution_count": 711,
   "metadata": {},
   "outputs": [
    {
     "data": {
      "image/png": "[encoded data removed]",
      "text/plain": [
       "<matplotlib.figure.Figure at 0x1a285d50b8>"
      ]
     },
     "metadata": {},
     "output_type": "display_data"
    }
   ],
   "source": [
    "#def P10(num_examples):\n",
    "\n",
    "### STUDENT START ###\n",
    "def generateDigit(digit, model):\n",
    "    #Let's start with creating an empty image grid\n",
    "    import random\n",
    "    new_row=np.empty((28,28))\n",
    "\n",
    "    #Now we will iterate the matrix and populate 1 and 0 based on pixel probabilities for a specific digit\n",
    "    pos=0\n",
    "    for row in range (0,28):\n",
    "        for col in range (0,28):\n",
    "            #np.random.rand will be altered to the probability for a specific pixel of a specific digit\n",
    "            new_row[row,col] = 1 if np.random.rand() < np.exp(model.feature_log_prob_[digit-1,pos]) else 0\n",
    "            pos = pos+1\n",
    "\n",
    "    #return the created image\n",
    "    return new_row\n",
    "    \n",
    "def P10(num_examples):\n",
    "    #Let's create a BernoulliNB model\n",
    "    from sklearn.naive_bayes import BernoulliNB\n",
    "    model = BernoulliNB(binarize=0.5)\n",
    "    model.fit(train_data, train_labels)\n",
    "    \n",
    "    #Let's start a for loop to generate digits and show the plot\n",
    "    place = 1\n",
    "    for digit in range (1,11):\n",
    "        for col in range (1,num_examples+1):\n",
    "            rowToPlot = generateDigit(digit, model)\n",
    "\n",
    "            #We will now add the digit to the subplot\n",
    "            fig = plt.subplot(10,num_examples, place)\n",
    "            place = place + 1\n",
    "            fig.axis('off')\n",
    "            plt.imshow(rowToPlot, cmap='Greys')\n",
    "\n",
    "#Call the created function\n",
    "P10(20)\n",
    "\n",
    "### STUDENT END ###\n",
    "\n",
    "#P10(20)"
   ]
  },
  {
   "cell_type": "markdown",
   "metadata": {},
   "source": [
    "ANSWER: The generated digits are less clear than the actual digits. I tried blurr, and also changing the binarize values but it did not make much of a difference"
   ]
  },
  {
   "cell_type": "markdown",
   "metadata": {},
   "source": [
    "(11) Remember that a strongly calibrated classifier is rougly 90% accurate when the posterior probability of the predicted class is 0.9. A weakly calibrated classifier is more accurate when the posterior is 90% than when it is 80%. A poorly calibrated classifier has no positive correlation between posterior and accuracy.\n",
    "\n",
    "Train a BernoulliNB model with a reasonable alpha value. For each posterior bucket (think of a bin in a histogram), you want to estimate the classifier's accuracy. So for each prediction, find the bucket the maximum posterior belongs to and update the \"correct\" and \"total\" counters.\n",
    "\n",
    "How would you characterize the calibration for the Naive Bayes model?"
   ]
  },
  {
   "cell_type": "code",
   "execution_count": 712,
   "metadata": {},
   "outputs": [
    {
     "name": "stdout",
     "output_type": "stream",
     "text": [
      "p(pred) <= 0.5000000000000    total =   6    accuracy = 0.333\n",
      "p(pred) <= 0.9000000000000    total = 378    accuracy = 0.410\n",
      "p(pred) <= 0.9990000000000    total = 820    accuracy = 0.490\n",
      "p(pred) <= 0.9999900000000    total = 701    accuracy = 0.641\n",
      "p(pred) <= 0.9999999000000    total = 732    accuracy = 0.721\n",
      "p(pred) <= 0.9999999990000    total = 641    accuracy = 0.786\n",
      "p(pred) <= 0.9999999999900    total = 643    accuracy = 0.880\n",
      "p(pred) <= 0.9999999999999    total = 571    accuracy = 0.933\n",
      "p(pred) <= 1.0000000000000    total = 4508    accuracy = 0.977\n"
     ]
    }
   ],
   "source": [
    "#def P11(buckets, correct, total):\n",
    "    \n",
    "### STUDENT START ###\n",
    "def P11(buckets, correct, total):\n",
    "    #Creating a BernoulliNB model\n",
    "    from sklearn.naive_bayes import BernoulliNB\n",
    "    model = BernoulliNB(binarize=0.5)\n",
    "    model.fit(train_data, train_labels)\n",
    "    predicted_prob = model.predict_proba(test_data)\n",
    "    \n",
    "    #Iterating through the probabilities to place it in the right bin and updating the counters\n",
    "    for rowIndex in range(0,len(predicted_prob)):\n",
    "            #Select the current row\n",
    "            row = predicted_prob[rowIndex]\n",
    "\n",
    "            #Now we will extract the max probability value and the column it is in. \n",
    "            #Note that the maxPosteriorIndex+1 is the actual digit as well\n",
    "            maxPosteriorValue = max(row)\n",
    "            maxPosteriorIndex = np.argmax(row)\n",
    "            \n",
    "            #We will now find the correct bucket index to use\n",
    "            bucket_index = (buckets >= maxPosteriorValue).nonzero()[0][0]\n",
    "\n",
    "            #Increment the total counter\n",
    "            total[bucket_index] = total[bucket_index] + 1\n",
    "            \n",
    "            #Only update the correct counter if the prediction was correct\n",
    "            if (maxPosteriorIndex) == int(test_labels[rowIndex]):\n",
    "                correct[bucket_index] = correct[bucket_index] + 1\n",
    "        \n",
    "buckets = [0.5, 0.9, 0.999, 0.99999, 0.9999999, 0.999999999, 0.99999999999, 0.9999999999999, 1.0]\n",
    "correct = [0 for i in buckets]\n",
    "total = [0 for i in buckets]\n",
    "\n",
    "P11(buckets, correct, total)\n",
    "for i in range(len(buckets)):\n",
    "    accuracy = 0.0\n",
    "    if (total[i] > 0): accuracy = correct[i] / total[i]\n",
    "    print ('p(pred) <= %.13f    total = %3d    accuracy = %.3f' %(buckets[i], total[i], accuracy))\n",
    "\n",
    "                \n",
    "### STUDENT END ###\n",
    "\n",
    "#buckets = [0.5, 0.9, 0.999, 0.99999, 0.9999999, 0.999999999, 0.99999999999, 0.9999999999999, 1.0]\n",
    "#correct = [0 for i in buckets]\n",
    "#total = [0 for i in buckets]\n",
    "\n",
    "#P11(buckets, correct, total)\n",
    "\n",
    "#for i in range(len(buckets)):\n",
    "#    accuracy = 0.0\n",
    "#    if (total[i] > 0): accuracy = correct[i] / total[i]\n",
    "#    print 'p(pred) <= %.13f    total = %3d    accuracy = %.3f' %(buckets[i], total[i], accuracy)"
   ]
  },
  {
   "cell_type": "markdown",
   "metadata": {},
   "source": [
    "ANSWER: The model is strongly calliberated because the accuracy increases as the posterior probability increases"
   ]
  },
  {
   "cell_type": "markdown",
   "metadata": {},
   "source": [
    "(12) EXTRA CREDIT\n",
    "\n",
    "Try designing extra features to see if you can improve the performance of Naive Bayes on the dev set. Here are a few ideas to get you started:\n",
    "- Try summing the pixel values in each row and each column.\n",
    "- Try counting the number of enclosed regions; 8 usually has 2 enclosed regions, 9 usually has 1, and 7 usually has 0.\n",
    "\n",
    "Make sure you comment your code well!"
   ]
  },
  {
   "cell_type": "code",
   "execution_count": 713,
   "metadata": {},
   "outputs": [
    {
     "name": "stdout",
     "output_type": "stream",
     "text": [
      "Baseline score with no additional features: 0.815\n",
      "Score after adding features: 0.832\n",
      "Shape of the new data (1000, 841)\n"
     ]
    }
   ],
   "source": [
    "#def P12():\n",
    "\n",
    "### STUDENT START ###\n",
    "def add_features(data):\n",
    "    #This will be the function to add new features\n",
    "    feature_1 = np.empty((len(data),1))\n",
    "    feature_arr_0 = np.empty((len(data),28))\n",
    "    feature_arr_1 = np.empty((len(data),28))\n",
    "    \n",
    "    for index in range(0,len(data)):\n",
    "        #Feature is s simple sum of all digits\n",
    "        feature_1[index] = data[index].sum()\n",
    "        \n",
    "        #Next two features add the colums and then add the rows\n",
    "        feature_arr_0[index] = data[index].reshape(28,28).sum(axis=0)\n",
    "        feature_arr_1[index] = data[index].reshape(28,28).sum(axis=1)\n",
    "    \n",
    "    new_data = np.hstack((data,feature_1))\n",
    "    new_data = np.hstack((new_data,feature_arr_0))\n",
    "    new_data = np.hstack((new_data,feature_arr_1))\n",
    "    \n",
    "    return new_data\n",
    "\n",
    "def P12():\n",
    "    from sklearn.naive_bayes import BernoulliNB\n",
    "\n",
    "    #Let's establish a baseline score\n",
    "    model = BernoulliNB(binarize=0.5)\n",
    "    model.fit(mini_train_data, mini_train_labels)\n",
    "    score_baseline = model.score(dev_data, dev_labels)\n",
    "    \n",
    "    print(\"Baseline score with no additional features: \"+str(score_baseline))\n",
    "\n",
    "    #Let's add a new feature that sums the pixel values\n",
    "    new_mini_train_data = add_features(mini_train_data)\n",
    "    new_dev_data = add_features(dev_data)\n",
    "    \n",
    "    #Creating a BernoulliNB model\n",
    "    model2 = BernoulliNB(binarize=0.5)\n",
    "    model2.fit(new_mini_train_data, mini_train_labels)\n",
    "    score_sum = model2.score(new_dev_data, dev_labels)\n",
    "    \n",
    "    print(\"Score after adding features: \"+str(score_sum))\n",
    "    \n",
    "    print(\"Shape of the new data \"+str(new_mini_train_data.shape))\n",
    "    \n",
    "\n",
    "#Call the newly created function\n",
    "P12()\n",
    "\n",
    "### STUDENT END ###\n",
    "\n",
    "#P12()"
   ]
  }
 ],
 "metadata": {
  "kernelspec": {
   "display_name": "Python 3",
   "language": "python",
   "name": "python3"
  },
  "language_info": {
   "codemirror_mode": {
    "name": "ipython",
    "version": 3
   },
   "file_extension": ".py",
   "mimetype": "text/x-python",
   "name": "python",
   "nbconvert_exporter": "python",
   "pygments_lexer": "ipython3",
   "version": "3.6.3"
  }
 },
 "nbformat": 4,
 "nbformat_minor": 1
}
